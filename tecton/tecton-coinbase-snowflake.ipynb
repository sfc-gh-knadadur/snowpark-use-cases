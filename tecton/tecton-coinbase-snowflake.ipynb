{
 "cells": [
  {
   "cell_type": "markdown",
   "id": "af5c0776-68bb-4bcf-abfd-ed1b3c0c5899",
   "metadata": {},
   "source": [
    "### Install snowpark libraries, Connect to Snowflake DB, Load dummy data"
   ]
  },
  {
   "cell_type": "code",
   "execution_count": 100,
   "id": "f9241793-433b-4aeb-8d8a-25a96cbb26b6",
   "metadata": {},
   "outputs": [],
   "source": [
    "!pip install snowflake-snowpark-python"
   ]
  },
  {
   "cell_type": "code",
   "execution_count": 80,
   "id": "a3ed1f1c-86e9-441e-ac6c-542760758b93",
   "metadata": {},
   "outputs": [
    {
     "data": {
      "text/html": [
       "<div>\n",
       "<style scoped>\n",
       "    .dataframe tbody tr th:only-of-type {\n",
       "        vertical-align: middle;\n",
       "    }\n",
       "\n",
       "    .dataframe tbody tr th {\n",
       "        vertical-align: top;\n",
       "    }\n",
       "\n",
       "    .dataframe thead th {\n",
       "        text-align: right;\n",
       "    }\n",
       "</style>\n",
       "<table border=\"1\" class=\"dataframe\">\n",
       "  <thead>\n",
       "    <tr style=\"text-align: right;\">\n",
       "      <th></th>\n",
       "      <th>USER_ID</th>\n",
       "      <th>TIMESTAMP</th>\n",
       "      <th>LAT</th>\n",
       "      <th>LONG</th>\n",
       "    </tr>\n",
       "  </thead>\n",
       "  <tbody>\n",
       "    <tr>\n",
       "      <th>0</th>\n",
       "      <td>0</td>\n",
       "      <td>2024-08-08 22:17:29.566880</td>\n",
       "      <td>42.546245</td>\n",
       "      <td>1.601554</td>\n",
       "    </tr>\n",
       "    <tr>\n",
       "      <th>1</th>\n",
       "      <td>1</td>\n",
       "      <td>2024-08-09 22:17:29.566880</td>\n",
       "      <td>23.424076</td>\n",
       "      <td>53.847818</td>\n",
       "    </tr>\n",
       "    <tr>\n",
       "      <th>2</th>\n",
       "      <td>2</td>\n",
       "      <td>2024-08-10 22:17:29.566880</td>\n",
       "      <td>33.939110</td>\n",
       "      <td>67.709953</td>\n",
       "    </tr>\n",
       "    <tr>\n",
       "      <th>3</th>\n",
       "      <td>3</td>\n",
       "      <td>2024-08-11 22:17:29.566880</td>\n",
       "      <td>17.060816</td>\n",
       "      <td>-61.796428</td>\n",
       "    </tr>\n",
       "    <tr>\n",
       "      <th>4</th>\n",
       "      <td>4</td>\n",
       "      <td>2024-08-12 22:17:29.566880</td>\n",
       "      <td>18.220554</td>\n",
       "      <td>-63.068615</td>\n",
       "    </tr>\n",
       "  </tbody>\n",
       "</table>\n",
       "</div>"
      ],
      "text/plain": [
       "   USER_ID                  TIMESTAMP        LAT       LONG\n",
       "0        0 2024-08-08 22:17:29.566880  42.546245   1.601554\n",
       "1        1 2024-08-09 22:17:29.566880  23.424076  53.847818\n",
       "2        2 2024-08-10 22:17:29.566880  33.939110  67.709953\n",
       "3        3 2024-08-11 22:17:29.566880  17.060816 -61.796428\n",
       "4        4 2024-08-12 22:17:29.566880  18.220554 -63.068615"
      ]
     },
     "execution_count": 80,
     "metadata": {},
     "output_type": "execute_result"
    }
   ],
   "source": [
    "import pandas as pd\n",
    "from datetime import datetime\n",
    "\n",
    "date_df = pd.DataFrame(columns=['user_id','timestamp'])\n",
    "date_df['user_id']=range(0,245,1)\n",
    "date_df['timestamp'] = pd.date_range(datetime.today(), periods=245).tolist()\n",
    "\n",
    "lat_long_file = 'world_country_and_usa_states_latitude_and_longitude_values.csv'\n",
    "df = pd.concat([date_df,pd.read_csv(lat_long_file)[['latitude','longitude']]],axis=1)\n",
    "df.rename(columns={'user_id':'USER_ID','timestamp':'TIMESTAMP','latitude':'LAT','longitude':'LONG'},inplace=True)\n",
    "df.head()"
   ]
  },
  {
   "cell_type": "code",
   "execution_count": null,
   "id": "5f9429ad-dab2-4c42-a594-9093667ea581",
   "metadata": {},
   "outputs": [],
   "source": [
    "from snowflake.snowpark import Session, version\n",
    "import json\n",
    "\n",
    "# Create Snowflake Session object\n",
    "connection_parameters = json.load(open('cred.json'))\n",
    "session = Session.builder.configs(connection_parameters).create()\n",
    "session.sql_simplifier_enabled = True\n",
    "\n",
    "snowflake_environment = session.sql('SELECT current_user(), current_version()').collect()\n",
    "\n",
    "# Current Environment Details\n",
    "print('User                        : {}'.format(snowflake_environment[0][0]))\n",
    "print('Role                        : {}'.format(session.get_current_role()))\n",
    "print('Database                    : {}'.format(session.get_current_database()))\n",
    "print('Schema                      : {}'.format(session.get_current_schema()))\n",
    "print('Warehouse                   : {}'.format(session.get_current_warehouse()))\n",
    "print('Snowflake version           : {}'.format(snowflake_environment[0][1]))"
   ]
  },
  {
   "cell_type": "code",
   "execution_count": 93,
   "id": "4b3df1b6-0aa1-40ce-bc99-0a93a8d7a74f",
   "metadata": {},
   "outputs": [],
   "source": [
    "session.create_dataframe(df).write.save_as_table(table_name='transactions', mode='overwrite')"
   ]
  },
  {
   "cell_type": "markdown",
   "id": "c332a351-6836-4413-a8e7-0d3432ec28a4",
   "metadata": {},
   "source": [
    "### Install tecton Libs, Connect to workspace, create batch datasource and create featureview and apply"
   ]
  },
  {
   "cell_type": "code",
   "execution_count": null,
   "id": "cf89d188-83cd-4cc5-9bf0-4d3b90215548",
   "metadata": {},
   "outputs": [],
   "source": [
    "!pip install 'tecton[rift,snowflake]==0.10.0b7'"
   ]
  },
  {
   "cell_type": "code",
   "execution_count": 2,
   "id": "80bd4c69-95b4-46ef-9da1-d44826e5515f",
   "metadata": {},
   "outputs": [
    {
     "name": "stdout",
     "output_type": "stream",
     "text": [
      "Requesting authorization for Tecton CLI via browser. \n",
      "If browser doesn't open automatically, use `tecton login --manual`\n",
      "✅ Authentication successful!\n",
      "✅ Updated configuration at /Users/knadadur/.tecton/config\n"
     ]
    }
   ],
   "source": [
    "!tecton login https://demo-apollo.tecton.ai/"
   ]
  },
  {
   "cell_type": "code",
   "execution_count": 11,
   "id": "17ddbcf3-adea-4967-892c-1043afa3ce87",
   "metadata": {},
   "outputs": [
    {
     "name": "stdout",
     "output_type": "stream",
     "text": [
      "Local feature repository root set to /Users/knadadur/Documents/tecton-coinbase\n",
      "\n",
      "💡 We recommend tracking these files in git:\n",
      "     /Users/knadadur/Documents/tecton-coinbase/.tecton\n",
      "     /Users/knadadur/Documents/tecton-coinbase/repo.yaml\n",
      "\n",
      "💡 Run `tecton apply` to apply the feature repository to the Tecton cluster.\n"
     ]
    }
   ],
   "source": [
    "!tecton init"
   ]
  },
  {
   "cell_type": "code",
   "execution_count": 94,
   "id": "4109f969-d601-4875-9471-e53a7b3fb77e",
   "metadata": {},
   "outputs": [],
   "source": [
    "from tecton import BatchSource, SnowflakeConfig, Entity, batch_feature_view, FeatureService\n",
    "from datetime import datetime, timedelta"
   ]
  },
  {
   "cell_type": "code",
   "execution_count": 101,
   "id": "1b8a61b0-0bfa-4fd5-94c3-b548b4a41513",
   "metadata": {},
   "outputs": [],
   "source": [
    "transactions_batch = BatchSource(\n",
    "    name=\"transactions\",\n",
    "    batch_config=SnowflakeConfig(\n",
    "        url=\"https://tnb84480.snowflakecomputing.com//\",\n",
    "        database=\"transactions_db\",\n",
    "        schema=\"transaction_schema\",\n",
    "        warehouse=\"xs_wh\",\n",
    "        table=\"transactions\",\n",
    "        timestamp_field = \"TIMESTAMP\",\n",
    "        user=<snowflake-user-id>,\n",
    "        password=<password>,\n",
    "    )\n",
    ")"
   ]
  },
  {
   "cell_type": "code",
   "execution_count": 102,
   "id": "06b2dcd0-f95a-4290-8658-96b23384dd99",
   "metadata": {},
   "outputs": [],
   "source": [
    "user = Entity(name=\"user\", join_keys=[\"USER_ID\"])"
   ]
  },
  {
   "cell_type": "code",
   "execution_count": 103,
   "id": "a4848669-1084-42e3-9dae-6f0da3b9427a",
   "metadata": {},
   "outputs": [],
   "source": [
    "from tecton import batch_feature_view\n",
    "\n",
    "\n",
    "@batch_feature_view(\n",
    "    sources=[transactions_batch], \n",
    "    entities=[user], \n",
    "    mode=\"snowflake_sql\",\n",
    "    online=True,\n",
    "    offline=True,\n",
    "    batch_schedule=timedelta(days=1),\n",
    ")\n",
    "def transaction_location(transactions):\n",
    "    return f\"\"\"\n",
    "        SELECT\n",
    "            USER_ID,\n",
    "            TIMESTAMP,\n",
    "            LAT,\n",
    "            LONG\n",
    "        FROM\n",
    "            {transactions}\n",
    "        \"\"\""
   ]
  },
  {
   "cell_type": "code",
   "execution_count": 104,
   "id": "c4f823ec-a04a-4337-af98-e83cc9f86b46",
   "metadata": {},
   "outputs": [],
   "source": [
    "fraud_detection_service = FeatureService(\n",
    "    name='fraud_detection_service',\n",
    "    features=[\n",
    "        transaction_location\n",
    "    ],\n",
    ")"
   ]
  },
  {
   "cell_type": "code",
   "execution_count": 105,
   "id": "5d0090ac-3bac-420a-b454-15b2d7e16bc2",
   "metadata": {},
   "outputs": [
    {
     "name": "stdout",
     "output_type": "stream",
     "text": [
      "Using workspace \"coinbase-test\" on cluster https://demo-apollo.tecton.ai\n",
      "\u001b[K\u001b[?25h✅\u001b[0m Imported 0 Python modules from the feature repository\n",
      "\u001b[K\u001b[?25h✅\u001b[0m Imported 0 Python modules from the feature repository\n",
      "⚠️  Running Tests: No tests found.\n",
      "\u001b[K\u001b[?25h✅\u001b[0m Collecting local feature declarations\n",
      "\u001b[K\u001b[?25h✅\u001b[0m Performing server-side feature validation: Initializing.\n",
      "🎉 The remote and local state are the same, nothing to do!\n"
     ]
    }
   ],
   "source": [
    "!tecton apply"
   ]
  },
  {
   "cell_type": "code",
   "execution_count": 106,
   "id": "3b950a13-05d3-49c4-b23b-c952e44c9d56",
   "metadata": {},
   "outputs": [],
   "source": [
    "import tecton\n",
    "\n",
    "ws = tecton.get_workspace(\"coinbase-test\")"
   ]
  },
  {
   "cell_type": "code",
   "execution_count": 108,
   "id": "f77e4861-5f48-4689-9a1f-26d48f583907",
   "metadata": {},
   "outputs": [
    {
     "ename": "TectonValidationError",
     "evalue": "There are no commits to restore from in this workspace, trace ID: 0774a08c4c53a9ffe134b50bdc8ba583",
     "output_type": "error",
     "traceback": [
      "\u001b[0;31m---------------------------------------------------------------------------\u001b[0m",
      "\u001b[0;31mTectonAPIValidationError\u001b[0m                  Traceback (most recent call last)",
      "File \u001b[0;32m~/miniconda3/envs/myenv/lib/python3.10/site-packages/tecton/_internals/sdk_decorators.py:322\u001b[0m, in \u001b[0;36m_invoke_and_transform_errors\u001b[0;34m(func, args, kwargs, arg_names, log_analytics, is_top_level, typecheck)\u001b[0m\n\u001b[1;32m    321\u001b[0m \u001b[38;5;28;01mtry\u001b[39;00m:\n\u001b[0;32m--> 322\u001b[0m     return_value \u001b[38;5;241m=\u001b[39m \u001b[43mfunc\u001b[49m\u001b[43m(\u001b[49m\u001b[38;5;241;43m*\u001b[39;49m\u001b[43margs\u001b[49m\u001b[43m,\u001b[49m\u001b[43m \u001b[49m\u001b[38;5;241;43m*\u001b[39;49m\u001b[38;5;241;43m*\u001b[39;49m\u001b[43mkwargs\u001b[49m\u001b[43m)\u001b[49m\n\u001b[1;32m    323\u001b[0m     caught_exception \u001b[38;5;241m=\u001b[39m \u001b[38;5;28;01mNone\u001b[39;00m\n",
      "File \u001b[0;32m~/miniconda3/envs/myenv/lib/python3.10/site-packages/typeguard/__init__.py:1033\u001b[0m, in \u001b[0;36mtypechecked.<locals>.wrapper\u001b[0;34m(*args, **kwargs)\u001b[0m\n\u001b[1;32m   1032\u001b[0m check_argument_types(memo)\n\u001b[0;32m-> 1033\u001b[0m retval \u001b[38;5;241m=\u001b[39m \u001b[43mfunc\u001b[49m\u001b[43m(\u001b[49m\u001b[38;5;241;43m*\u001b[39;49m\u001b[43margs\u001b[49m\u001b[43m,\u001b[49m\u001b[43m \u001b[49m\u001b[38;5;241;43m*\u001b[39;49m\u001b[38;5;241;43m*\u001b[39;49m\u001b[43mkwargs\u001b[49m\u001b[43m)\u001b[49m\n\u001b[1;32m   1034\u001b[0m \u001b[38;5;28;01mtry\u001b[39;00m:\n",
      "File \u001b[0;32m~/miniconda3/envs/myenv/lib/python3.10/site-packages/tecton/framework/workspace.py:257\u001b[0m, in \u001b[0;36mWorkspace.get_data_source\u001b[0;34m(self, name)\u001b[0m\n\u001b[1;32m    252\u001b[0m request \u001b[38;5;241m=\u001b[39m GetVirtualDataSourceRequest(\n\u001b[1;32m    253\u001b[0m     name\u001b[38;5;241m=\u001b[39mname,\n\u001b[1;32m    254\u001b[0m     workspace\u001b[38;5;241m=\u001b[39m\u001b[38;5;28mself\u001b[39m\u001b[38;5;241m.\u001b[39mworkspace,\n\u001b[1;32m    255\u001b[0m     run_object_version_check\u001b[38;5;241m=\u001b[39m\u001b[38;5;129;01mnot\u001b[39;00m conf\u001b[38;5;241m.\u001b[39mget_bool(\u001b[38;5;124m\"\u001b[39m\u001b[38;5;124mSKIP_OBJECT_VERSION_CHECK\u001b[39m\u001b[38;5;124m\"\u001b[39m),\n\u001b[1;32m    256\u001b[0m )\n\u001b[0;32m--> 257\u001b[0m response \u001b[38;5;241m=\u001b[39m \u001b[43mmetadata_service\u001b[49m\u001b[38;5;241;43m.\u001b[39;49m\u001b[43minstance\u001b[49m\u001b[43m(\u001b[49m\u001b[43m)\u001b[49m\u001b[38;5;241;43m.\u001b[39;49m\u001b[43mGetVirtualDataSource\u001b[49m\u001b[43m(\u001b[49m\u001b[43mrequest\u001b[49m\u001b[43m)\u001b[49m\n\u001b[1;32m    258\u001b[0m fco_container \u001b[38;5;241m=\u001b[39m FcoContainer\u001b[38;5;241m.\u001b[39mfrom_proto(response\u001b[38;5;241m.\u001b[39mfco_container)\n",
      "File \u001b[0;32m~/miniconda3/envs/myenv/lib/python3.10/site-packages/tecton_core/metadata_service_impl/http_client.py:45\u001b[0m, in \u001b[0;36mPureHTTPStub.__getattr__.<locals>.method\u001b[0;34m(request, timeout_sec)\u001b[0m\n\u001b[1;32m     44\u001b[0m \u001b[38;5;28;01mdef\u001b[39;00m \u001b[38;5;21mmethod\u001b[39m(request: Message, timeout_sec: \u001b[38;5;28mfloat\u001b[39m \u001b[38;5;241m=\u001b[39m \u001b[38;5;241m300.0\u001b[39m) \u001b[38;5;241m-\u001b[39m\u001b[38;5;241m>\u001b[39m MDSResponse:\n\u001b[0;32m---> 45\u001b[0m     \u001b[38;5;28;01mreturn\u001b[39;00m \u001b[38;5;28;43mself\u001b[39;49m\u001b[38;5;241;43m.\u001b[39;49m\u001b[43m_stub_obj\u001b[49m\u001b[38;5;241;43m.\u001b[39;49m\u001b[43mexecute\u001b[49m\u001b[43m(\u001b[49m\u001b[38;5;28;43mself\u001b[39;49m\u001b[38;5;241;43m.\u001b[39;49m\u001b[43m_method_name_to_grpc_call\u001b[49m\u001b[43m[\u001b[49m\u001b[43mmethod_name\u001b[49m\u001b[43m]\u001b[49m\u001b[43m,\u001b[49m\u001b[43m \u001b[49m\u001b[43mrequest\u001b[49m\u001b[43m,\u001b[49m\u001b[43m \u001b[49m\u001b[43mtimeout_sec\u001b[49m\u001b[43m)\u001b[49m\n",
      "File \u001b[0;32m~/miniconda3/envs/myenv/lib/python3.10/site-packages/tecton_core/metadata_service_impl/http_client.py:78\u001b[0m, in \u001b[0;36m_InternalHTTPStub.execute\u001b[0;34m(self, grpc_call, request, timeout_sec)\u001b[0m\n\u001b[1;32m     77\u001b[0m     details \u001b[38;5;241m=\u001b[39m body[\u001b[38;5;124m\"\u001b[39m\u001b[38;5;124mstatus\u001b[39m\u001b[38;5;124m\"\u001b[39m][\u001b[38;5;124m\"\u001b[39m\u001b[38;5;124mdetail\u001b[39m\u001b[38;5;124m\"\u001b[39m]\n\u001b[0;32m---> 78\u001b[0m     \u001b[43merror_lib\u001b[49m\u001b[38;5;241;43m.\u001b[39;49m\u001b[43mraise_for_grpc_status\u001b[49m\u001b[43m(\u001b[49m\u001b[43mcode\u001b[49m\u001b[43m,\u001b[49m\u001b[43m \u001b[49m\u001b[43mdetails\u001b[49m\u001b[43m,\u001b[49m\u001b[43m \u001b[49m\u001b[43mrequest_url\u001b[49m\u001b[43m,\u001b[49m\u001b[43m \u001b[49m\u001b[38;5;28;43mself\u001b[39;49m\u001b[38;5;241;43m.\u001b[39;49m\u001b[43mrequest_provider\u001b[49m\u001b[43m)\u001b[49m\n\u001b[1;32m     80\u001b[0m response_bytes \u001b[38;5;241m=\u001b[39m base64\u001b[38;5;241m.\u001b[39mdecodebytes(body[\u001b[38;5;124m\"\u001b[39m\u001b[38;5;124mresponse\u001b[39m\u001b[38;5;124m\"\u001b[39m]\u001b[38;5;241m.\u001b[39mencode(\u001b[38;5;124m\"\u001b[39m\u001b[38;5;124mutf-8\u001b[39m\u001b[38;5;124m\"\u001b[39m))\n",
      "File \u001b[0;32m~/miniconda3/envs/myenv/lib/python3.10/site-packages/tecton_core/metadata_service_impl/error_lib.py:58\u001b[0m, in \u001b[0;36mraise_for_grpc_status\u001b[0;34m(status_code, details, host_url, request_provider)\u001b[0m\n\u001b[1;32m     57\u001b[0m \u001b[38;5;28;01mif\u001b[39;00m status_code \u001b[38;5;241m==\u001b[39m gRPCStatus\u001b[38;5;241m.\u001b[39mINVALID_ARGUMENT\u001b[38;5;241m.\u001b[39mvalue:\n\u001b[0;32m---> 58\u001b[0m     \u001b[38;5;28;01mraise\u001b[39;00m TectonAPIValidationError(details)\n\u001b[1;32m     60\u001b[0m \u001b[38;5;28;01mif\u001b[39;00m status_code \u001b[38;5;241m==\u001b[39m gRPCStatus\u001b[38;5;241m.\u001b[39mFAILED_PRECONDITION\u001b[38;5;241m.\u001b[39mvalue:\n",
      "\u001b[0;31mTectonAPIValidationError\u001b[0m: There are no commits to restore from in this workspace",
      "\nDuring handling of the above exception, another exception occurred:\n",
      "\u001b[0;31mTectonValidationError\u001b[0m                     Traceback (most recent call last)",
      "Cell \u001b[0;32mIn[108], line 1\u001b[0m\n\u001b[0;32m----> 1\u001b[0m data_source \u001b[38;5;241m=\u001b[39m \u001b[43mws\u001b[49m\u001b[38;5;241;43m.\u001b[39;49m\u001b[43mget_data_source\u001b[49m\u001b[43m(\u001b[49m\u001b[38;5;124;43m\"\u001b[39;49m\u001b[38;5;124;43mtransactions_batch\u001b[39;49m\u001b[38;5;124;43m\"\u001b[39;49m\u001b[43m)\u001b[49m\n",
      "File \u001b[0;32m~/miniconda3/envs/myenv/lib/python3.10/site-packages/tecton/_internals/sdk_decorators.py:267\u001b[0m, in \u001b[0;36msdk_public_method.<locals>.inner_decorator.<locals>._sdk_public_method_wrapper\u001b[0;34m(*args, **kwargs)\u001b[0m\n\u001b[1;32m    265\u001b[0m \u001b[38;5;28;01mtry\u001b[39;00m:\n\u001b[1;32m    266\u001b[0m     thread_local_data\u001b[38;5;241m.\u001b[39min_tecton_sdk_public_method_wrapper \u001b[38;5;241m=\u001b[39m \u001b[38;5;28;01mTrue\u001b[39;00m\n\u001b[0;32m--> 267\u001b[0m     \u001b[38;5;28;01mreturn\u001b[39;00m \u001b[43m_invoke_and_transform_errors\u001b[49m\u001b[43m(\u001b[49m\n\u001b[1;32m    268\u001b[0m \u001b[43m        \u001b[49m\u001b[43mtarget_func\u001b[49m\u001b[43m,\u001b[49m\u001b[43m \u001b[49m\u001b[43margs\u001b[49m\u001b[43m,\u001b[49m\u001b[43m \u001b[49m\u001b[43mkwargs\u001b[49m\u001b[43m,\u001b[49m\u001b[43m \u001b[49m\u001b[43marg_names\u001b[49m\u001b[43m,\u001b[49m\u001b[43m \u001b[49m\u001b[43manalytics\u001b[49m\u001b[43m \u001b[49m\u001b[38;5;129;43;01mis\u001b[39;49;00m\u001b[43m \u001b[49m\u001b[38;5;129;43;01mnot\u001b[39;49;00m\u001b[43m \u001b[49m\u001b[38;5;28;43;01mNone\u001b[39;49;00m\u001b[43m,\u001b[49m\u001b[43m \u001b[49m\u001b[38;5;129;43;01mnot\u001b[39;49;00m\u001b[43m \u001b[49m\u001b[43malready_in_wrapper\u001b[49m\u001b[43m,\u001b[49m\u001b[43m \u001b[49m\u001b[43mtypecheck\u001b[49m\u001b[38;5;241;43m=\u001b[39;49m\u001b[38;5;28;43;01mTrue\u001b[39;49;00m\n\u001b[1;32m    269\u001b[0m \u001b[43m    \u001b[49m\u001b[43m)\u001b[49m\n\u001b[1;32m    270\u001b[0m \u001b[38;5;28;01mfinally\u001b[39;00m:\n\u001b[1;32m    271\u001b[0m     thread_local_data\u001b[38;5;241m.\u001b[39min_tecton_sdk_public_method_wrapper \u001b[38;5;241m=\u001b[39m already_in_wrapper\n",
      "File \u001b[0;32m~/miniconda3/envs/myenv/lib/python3.10/site-packages/tecton/_internals/sdk_decorators.py:327\u001b[0m, in \u001b[0;36m_invoke_and_transform_errors\u001b[0;34m(func, args, kwargs, arg_names, log_analytics, is_top_level, typecheck)\u001b[0m\n\u001b[1;32m    325\u001b[0m \u001b[38;5;28;01mexcept\u001b[39;00m TectonAPIValidationError \u001b[38;5;28;01mas\u001b[39;00m e:\n\u001b[1;32m    326\u001b[0m     caught_exception \u001b[38;5;241m=\u001b[39m e\n\u001b[0;32m--> 327\u001b[0m     \u001b[38;5;28;01mraise\u001b[39;00m errors\u001b[38;5;241m.\u001b[39mVALIDATION_ERROR_FROM_MDS(\u001b[38;5;28mstr\u001b[39m(e), trace_id)\n\u001b[1;32m    328\u001b[0m \u001b[38;5;28;01mexcept\u001b[39;00m TectonAPIInaccessibleError \u001b[38;5;28;01mas\u001b[39;00m e:\n\u001b[1;32m    329\u001b[0m     caught_exception \u001b[38;5;241m=\u001b[39m e\n",
      "\u001b[0;31mTectonValidationError\u001b[0m: There are no commits to restore from in this workspace, trace ID: 0774a08c4c53a9ffe134b50bdc8ba583"
     ]
    }
   ],
   "source": [
    "data_source = ws.get_data_source(\"transactions_batch\")"
   ]
  },
  {
   "cell_type": "code",
   "execution_count": null,
   "id": "52887002-25ed-4674-b586-5c22bbd5f7f4",
   "metadata": {},
   "outputs": [],
   "source": [
    "git revert <commit_hash>"
   ]
  }
 ],
 "metadata": {
  "kernelspec": {
   "display_name": "Python 3 (ipykernel)",
   "language": "python",
   "name": "python3"
  },
  "language_info": {
   "codemirror_mode": {
    "name": "ipython",
    "version": 3
   },
   "file_extension": ".py",
   "mimetype": "text/x-python",
   "name": "python",
   "nbconvert_exporter": "python",
   "pygments_lexer": "ipython3",
   "version": "3.10.14"
  }
 },
 "nbformat": 4,
 "nbformat_minor": 5
}
