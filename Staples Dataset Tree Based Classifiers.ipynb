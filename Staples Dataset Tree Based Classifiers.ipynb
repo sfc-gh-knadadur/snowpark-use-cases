{
 "cells": [
  {
   "cell_type": "markdown",
   "id": "e42460e1-60de-4ef0-97a5-9c6398e395f6",
   "metadata": {},
   "source": [
    "### Load Snowpark libraries"
   ]
  },
  {
   "cell_type": "code",
   "execution_count": 1,
   "id": "a5bd4557-d428-494b-8b92-9c74e417e730",
   "metadata": {},
   "outputs": [
    {
     "name": "stdout",
     "output_type": "stream",
     "text": [
      "snowflake snowpark version is: (0, 10, 0)\n"
     ]
    }
   ],
   "source": [
    "# Import required libraries\n",
    "from snowflake.snowpark.session import Session\n",
    "from snowflake.snowpark.functions import avg, sum, col,lit\n",
    "from snowflake.snowpark.functions import udf, sproc, col\n",
    "from snowflake.snowpark.types import IntegerType, FloatType, LongType, DoubleType, DecimalType,StringType, BooleanType, Variant\n",
    "from snowflake.snowpark.types import PandasSeries, PandasDataFrame\n",
    "from snowflake.snowpark import functions as fn\n",
    "\n",
    "import sys ,json\n",
    "import io\n",
    "import logging\n",
    "import pandas as pd\n",
    "\n",
    "import joblib\n",
    "import pandas as pd\n",
    "import numpy as np\n",
    "import json\n",
    "\n",
    "from snowflake.snowpark import version\n",
    "print (f\"snowflake snowpark version is: {version.VERSION}\")"
   ]
  },
  {
   "cell_type": "markdown",
   "id": "f9a80ae1-2be8-45ff-bf2e-e46918e944ee",
   "metadata": {},
   "source": [
    "### Connect to Snowflake and establish session"
   ]
  },
  {
   "cell_type": "code",
   "execution_count": 2,
   "id": "3cf3189c-5b46-4b30-bd01-58cdc75717da",
   "metadata": {},
   "outputs": [
    {
     "name": "stdout",
     "output_type": "stream",
     "text": [
      "Current Database: \"BANK1_CRM_DB\"\n",
      "Current Schema: \"PUBLIC\"\n",
      "Current Warehouse: \"APP_WH\"\n",
      "Warehouse set up:\n"
     ]
    },
    {
     "data": {
      "text/plain": [
       "[Row(name='APP_WH', state='STARTED', type='STANDARD', size='X-Small', min_cluster_count=1, max_cluster_count=1, started_clusters=1, running=0, queued=0, is_default='N', is_current='Y', auto_suspend=600, auto_resume='true', available=' 100', provisioning='0', quiescing='0', other='0', created_on=datetime.datetime(2022, 2, 27, 4, 51, 57, 85000, tzinfo=<DstTzInfo 'America/Los_Angeles' PST-1 day, 16:00:00 STD>), resumed_on=datetime.datetime(2022, 12, 6, 17, 19, 23, 774000, tzinfo=<DstTzInfo 'America/Los_Angeles' PST-1 day, 16:00:00 STD>), updated_on=datetime.datetime(2022, 12, 6, 17, 19, 23, 774000, tzinfo=<DstTzInfo 'America/Los_Angeles' PST-1 day, 16:00:00 STD>), owner='SYSADMIN', comment='', enable_query_acceleration='false', query_acceleration_max_scale_factor=8, resource_monitor='null', actives=1, pendings=0, failed=0, suspended=0, uuid='1463550724', scaling_policy='STANDARD')]"
      ]
     },
     "execution_count": 2,
     "metadata": {},
     "output_type": "execute_result"
    }
   ],
   "source": [
    "snowflake_connection_cfg = open('cred.json')\n",
    "snowflake_connection_cfg = snowflake_connection_cfg.read()\n",
    "snowflake_connection_cfg = json.loads(snowflake_connection_cfg)\n",
    "\n",
    "# Creating Snowpark Session\n",
    "staples_session = Session.builder.configs(snowflake_connection_cfg).create()\n",
    "print('Current Database:', staples_session.get_current_database())\n",
    "print('Current Schema:', staples_session.get_current_schema())\n",
    "print('Current Warehouse:', staples_session.get_current_warehouse())\n",
    "print(\"Warehouse set up:\")\n",
    "staples_session.sql(\"show warehouses like 'APP_WH'\").collect()"
   ]
  },
  {
   "cell_type": "markdown",
   "id": "3c1f9861-440b-4eba-973d-31ddd32ab497",
   "metadata": {},
   "source": [
    "### Create stage location for models"
   ]
  },
  {
   "cell_type": "code",
   "execution_count": 3,
   "id": "07ca3d6a-67d0-44f9-b3d9-9ba62683e7e6",
   "metadata": {},
   "outputs": [
    {
     "data": {
      "text/plain": [
       "[Row(status='Stage area STAPLES_STAGE_MODELS successfully created.')]"
      ]
     },
     "execution_count": 3,
     "metadata": {},
     "output_type": "execute_result"
    }
   ],
   "source": [
    "staples_session.sql(\"CREATE OR REPLACE STAGE staples_stage_models\").collect()"
   ]
  },
  {
   "cell_type": "code",
   "execution_count": 4,
   "id": "30a72055-cf43-4b2a-8ca8-edce6b4fd978",
   "metadata": {},
   "outputs": [],
   "source": [
    "staples_session.clear_packages()\n",
    "staples_session.add_packages(\"snowflake-snowpark-python\")\n",
    "staples_session.add_packages(\"scikit-learn\",\"pandas\",\"numpy\",\"joblib\",\"cachetools\")\n",
    "staples_session.clear_imports()\n",
    "# staples_session.add_import(ge_import_path)"
   ]
  },
  {
   "cell_type": "markdown",
   "id": "5a0a408a-8714-4888-aed6-dc0239fc91fb",
   "metadata": {},
   "source": [
    "### Define function to save trained model"
   ]
  },
  {
   "cell_type": "code",
   "execution_count": 5,
   "id": "bf3e1b08-20fa-4ec9-829f-feb1c47abe77",
   "metadata": {},
   "outputs": [],
   "source": [
    "def save_file(session, model, path, dest_filename):\n",
    "    # logger.debug('#save_file: -- START--')\n",
    "    input_stream = io.BytesIO()\n",
    "    joblib.dump(model, input_stream)\n",
    "    session._conn.upload_stream(input_stream, path, dest_filename)\n",
    "    return \"successfully created file: \" + path"
   ]
  },
  {
   "cell_type": "markdown",
   "id": "dfead7a3-0159-405a-9af1-084c44b551a2",
   "metadata": {},
   "source": [
    "### Define Features required to train model"
   ]
  },
  {
   "cell_type": "code",
   "execution_count": 6,
   "id": "4c3a64bd-4c22-4ce6-9e51-0d0a513c652e",
   "metadata": {},
   "outputs": [],
   "source": [
    "features=[\"RECENCY_DAY\",\n",
    "\"FREQUENCY\",\n",
    "\"MONETORY\",\n",
    "\"RMF_SCORE\",\n",
    "\"DOTCOM\",\n",
    "\"REWARDS_ACCOUNT\",\n",
    "\"FREQ_1\",\n",
    "\"FREQ_2\",\n",
    "\"FREQ_3\",\n",
    "\"FREQ_4\",\n",
    "\"FREQ_5\",\n",
    "\"FREQ_6\",\n",
    "\"FREQ_7\",\n",
    "\"FREQ_8\",\n",
    "\"FREQ_9\",\n",
    "\"FREQ_10\",\n",
    "\"FREQ_11\",\n",
    "\"FREQ_12\",\n",
    "\"CNT_PER_PDT\",\n",
    "\"CNT_PER_PDT_SFC\",\n",
    "\"CNT_PER_PDT_VFC\",\n",
    "\"NO_DISCOUNT\",\n",
    "\"DISCOUNT_PROMOTION\",\n",
    "\"SUM_DIS_PRO\"]"
   ]
  },
  {
   "cell_type": "markdown",
   "id": "dba43c98-3092-4cb7-87cb-488d06c0276e",
   "metadata": {},
   "source": [
    "### Define Model pipeline for Imputer, Standard Scaler and Random Classifier Model"
   ]
  },
  {
   "cell_type": "code",
   "execution_count": 7,
   "id": "2b1a7471-4baa-4264-907b-cf1bd366efed",
   "metadata": {},
   "outputs": [],
   "source": [
    "def build_rf_model(p_df: pd.DataFrame,ne,nj,cw, md):\n",
    "    from sklearn.pipeline import Pipeline\n",
    "    from sklearn.impute import SimpleImputer\n",
    "    from sklearn.preprocessing import StandardScaler, OneHotEncoder\n",
    "    from sklearn.compose import ColumnTransformer\n",
    "    from sklearn.ensemble import RandomForestClassifier\n",
    "    numeric_features = p_df.select_dtypes(include=['int64', 'float64']).columns.tolist()\n",
    "    categorical_features = p_df.select_dtypes(include=['object']).columns.tolist()\n",
    "\n",
    "    feature_names = numeric_features + categorical_features\n",
    "\n",
    "    numeric_transformer = Pipeline(steps=[\n",
    "        ('imputer', SimpleImputer(strategy='mean')),\n",
    "        ('scaler', StandardScaler(with_mean=True,with_std=True))])\n",
    "\n",
    "    categorical_transformer = Pipeline(steps=[\n",
    "        ('imputer', SimpleImputer(strategy='constant', fill_value='missing')),\n",
    "        ('onehot', OneHotEncoder(handle_unknown='ignore'))])\n",
    "\n",
    "    preprocessor = ColumnTransformer(\n",
    "        transformers=[\n",
    "            ('num', numeric_transformer, numeric_features),\n",
    "            ('cat', categorical_transformer, categorical_features)])\n",
    "\n",
    "    model = Pipeline(steps=[\n",
    "                ('preprocessor', preprocessor),\n",
    "                ('classifier'\n",
    "                    ,RandomForestClassifier(n_estimators=ne, n_jobs=-nj, class_weight=cw,max_depth=md)\n",
    "                    # ,RandomForestClassifier(n_estimators=4, n_jobs=-1, class_weight='balanced_subsample',max_depth=20)\n",
    "                    # ,RandomForestClassifier(maxBins=20,featureSubsetStrategy='onethird') need to find the equivalents\n",
    "                    # of these maxBins and featureSubsetStrategy. For featureSubsetStrategy I do think it is the \n",
    "                    # classweight from sklearn based on the documentation. I also think maxBins could be the same as\n",
    "                    # maxdepth.\n",
    "                )\n",
    "            ])\n",
    "\n",
    "    return model\n"
   ]
  },
  {
   "cell_type": "code",
   "execution_count": 8,
   "id": "a945f889-f5b3-4f20-a3c0-1a222da635f9",
   "metadata": {},
   "outputs": [],
   "source": [
    "def build_dtree_model(p_df: pd.DataFrame,cw, md):\n",
    "    from sklearn.pipeline import Pipeline\n",
    "    from sklearn.impute import SimpleImputer\n",
    "    from sklearn.preprocessing import StandardScaler, OneHotEncoder\n",
    "    from sklearn.compose import ColumnTransformer\n",
    "    from sklearn.tree import DecisionTreeClassifier\n",
    "    numeric_features = p_df.select_dtypes(include=['int64', 'float64']).columns.tolist()\n",
    "    categorical_features = p_df.select_dtypes(include=['object']).columns.tolist()\n",
    "\n",
    "    feature_names = numeric_features + categorical_features\n",
    "\n",
    "    numeric_transformer = Pipeline(steps=[\n",
    "        ('imputer', SimpleImputer(strategy='mean')),\n",
    "        ('scaler', StandardScaler(with_mean=True,with_std=True))])\n",
    "\n",
    "    categorical_transformer = Pipeline(steps=[\n",
    "        ('imputer', SimpleImputer(strategy='constant', fill_value='missing')),\n",
    "        ('onehot', OneHotEncoder(handle_unknown='ignore'))])\n",
    "\n",
    "    preprocessor = ColumnTransformer(\n",
    "        transformers=[\n",
    "            ('num', numeric_transformer, numeric_features),\n",
    "            ('cat', categorical_transformer, categorical_features)])\n",
    "\n",
    "    model = Pipeline(steps=[\n",
    "                ('preprocessor', preprocessor),\n",
    "                ('classifier'\n",
    "                    ,DecisionTreeClassifier(class_weight=cw,max_depth=md)\n",
    "                    # ,RandomForestClassifier(n_estimators=4, n_jobs=-1, class_weight='balanced_subsample',max_depth=20)\n",
    "                    # ,RandomForestClassifier(maxBins=20,featureSubsetStrategy='onethird') need to find the equivalents\n",
    "                    # of these maxBins and featureSubsetStrategy. For featureSubsetStrategy I do think it is the \n",
    "                    # classweight from sklearn based on the documentation. I also think maxBins could be the same as\n",
    "                    # maxdepth.\n",
    "                )\n",
    "            ])\n",
    "\n",
    "    return model\n"
   ]
  },
  {
   "cell_type": "markdown",
   "id": "810a1f3d-efcb-4bf0-86b9-eefc8b98c98b",
   "metadata": {},
   "source": [
    "### Define Classification report to register model output"
   ]
  },
  {
   "cell_type": "code",
   "execution_count": 9,
   "id": "849cb0ab-9421-47ac-bd0f-b0fc2037ea7f",
   "metadata": {},
   "outputs": [],
   "source": [
    "def get_classification_report(y_test, y_pred):\n",
    "    from sklearn import metrics\n",
    "    report = metrics.classification_report(y_test, y_pred, output_dict=True,target_names=['0','1'])\n",
    "    df_classification_report = pd.DataFrame(report).transpose()    \n",
    "    return df_classification_report"
   ]
  },
  {
   "cell_type": "markdown",
   "id": "7a819bdd-f1c2-417d-9cb2-db7ffc9a55d9",
   "metadata": {},
   "source": [
    "### Define Model parameteres to register model output"
   ]
  },
  {
   "cell_type": "code",
   "execution_count": 10,
   "id": "d4802883-d0ef-42ed-a7db-5c33baec86e4",
   "metadata": {},
   "outputs": [],
   "source": [
    "def get_model_info(model_name, test_size, random_state,ne,nj,cw,max_depth):\n",
    "    data = [[model_name,test_size,random_state,ne,nj,cw,max_depth]]  \n",
    "    df_model_info = pd.DataFrame(data,columns=['model','test_size','random_state','ne','nj','cw','max_depth'])\n",
    "    return df_model_info"
   ]
  },
  {
   "cell_type": "markdown",
   "id": "d82fab21-0f9b-426e-a844-b22c51285c9e",
   "metadata": {},
   "source": [
    "### Define Train random forest classifier model"
   ]
  },
  {
   "cell_type": "code",
   "execution_count": 11,
   "id": "a9300bc8-2de4-409c-b45e-c47f3a192681",
   "metadata": {},
   "outputs": [],
   "source": [
    "def staples_train_rf_model(session: Session, training_table: str, sample_size_n: int, model_name: str,features:list, Y: str,test_size:float,random_state:int,ne:int,nj:int,cw:str, md:int) -> str:\n",
    "    from sklearn.metrics import accuracy_score, classification_report, precision_score, recall_score\n",
    "    from sklearn.metrics import accuracy_score, confusion_matrix, classification_report\n",
    "\n",
    "    training_data = session.table(training_table).sample(n=sample_size_n)\n",
    "    Data_train, Data_test = training_data.random_split([1-test_size, test_size], seed=random_state)\n",
    "    pd_Data_train=Data_train.to_pandas()\n",
    "    pd_Data_test=Data_test.to_pandas()\n",
    "    from sklearn.ensemble import RandomForestClassifier \n",
    "    # Model building\n",
    "    rf = build_rf_model(pd_Data_train[features],ne,nj,cw, md)\n",
    "    rf.fit(pd_Data_train[features], pd_Data_train[Y])\n",
    "\n",
    "    model_dir = '@staples_stage_models'\n",
    "    model_fl = model_name+'.joblib'\n",
    "    save_file(session, rf, model_dir ,model_fl)\n",
    "\n",
    "    score = rf.score(pd_Data_test[features], pd_Data_test[Y])\n",
    "    \n",
    "    y_pred = rf.predict(pd_Data_test)\n",
    "    df_classification_report = get_classification_report(y_pred,pd_Data_test[Y]).reset_index().rename(columns={\"index\": \"class\"}).reset_index(drop=True)\n",
    "    df_model_info = get_model_info(model_fl,test_size,random_state,ne,nj,cw,md)\n",
    "    df_model_info=df_model_info.append([df_model_info]*5,ignore_index=True)\n",
    "    session.create_dataframe(df_classification_report.join(df_model_info)).write.mode(\"append\").save_as_table(\"staples_model_output\")\n",
    "    \n",
    "    return df_classification_report.join(df_model_info)"
   ]
  },
  {
   "cell_type": "markdown",
   "id": "8646a71d-c857-41ac-81d8-bc590b3d9447",
   "metadata": {},
   "source": [
    "### Define train decision Tree classifier model"
   ]
  },
  {
   "cell_type": "code",
   "execution_count": 12,
   "id": "9fab2d5b-63fd-45a1-a568-21d3b9d4c665",
   "metadata": {},
   "outputs": [],
   "source": [
    "def staples_train_dtree_model(session: Session, training_table: str, sample_size_n: int, model_name: str,features:list, Y: str,test_size:float,random_state:int,cw:str, md:int) -> str:\n",
    "    from sklearn.metrics import accuracy_score, classification_report, precision_score, recall_score\n",
    "    from sklearn.metrics import accuracy_score, confusion_matrix, classification_report\n",
    "\n",
    "    training_data = session.table(training_table).sample(n=sample_size_n)\n",
    "    Data_train, Data_test = training_data.random_split([1-test_size, test_size], seed=random_state)\n",
    "    pd_Data_train=Data_train.to_pandas()\n",
    "    pd_Data_test=Data_test.to_pandas()\n",
    "    from sklearn.ensemble import RandomForestClassifier \n",
    "    # Model building\n",
    "    dtree = build_dtree_model(pd_Data_train[features],cw, md)\n",
    "    dtree.fit(pd_Data_train[features], pd_Data_train[Y])\n",
    "\n",
    "    model_dir = '@staples_stage_models'\n",
    "    model_fl = model_name+'.joblib'\n",
    "    save_file(session, dtree, model_dir ,model_fl)\n",
    "\n",
    "    score = dtree.score(pd_Data_test[features], pd_Data_test[Y])\n",
    "    \n",
    "    y_pred = dtree.predict(pd_Data_test)\n",
    "    df_classification_report = get_classification_report(y_pred,pd_Data_test[Y]).reset_index().rename(columns={\"index\": \"class\"}).reset_index(drop=True)\n",
    "    df_model_info = get_model_info(model_fl,test_size,random_state,None,None,cw,md)\n",
    "    df_model_info=df_model_info.append([df_model_info]*5,ignore_index=True)\n",
    "    session.create_dataframe(df_classification_report.join(df_model_info)).write.mode(\"append\").save_as_table(\"staples_model_output\")\n",
    "    \n",
    "    return df_classification_report.join(df_model_info)"
   ]
  },
  {
   "cell_type": "markdown",
   "id": "d986ecb2-8721-4a1b-84e4-adeb4840d409",
   "metadata": {},
   "source": [
    "### Create Model output tables to save model ouptut"
   ]
  },
  {
   "cell_type": "code",
   "execution_count": 13,
   "id": "fc162bb8-ccb4-4378-972a-ab5dca3ddd3f",
   "metadata": {},
   "outputs": [
    {
     "data": {
      "text/plain": [
       "[Row(status='Table STAPLES_MODEL_OUTPUT successfully created.')]"
      ]
     },
     "execution_count": 13,
     "metadata": {},
     "output_type": "execute_result"
    }
   ],
   "source": [
    "staples_session.sql(\"create or replace table staples_model_output (class varchar, precision double, recall double, f1score double, support double, model varchar,test_size float, random_state int, ne int, nj int, cw varchar, max_depth int)\").collect()"
   ]
  },
  {
   "cell_type": "markdown",
   "id": "a1b4f52f-80c1-4584-96fb-22ecfedd4ed4",
   "metadata": {},
   "source": [
    "### Define stored proc to register random forest classifier model"
   ]
  },
  {
   "cell_type": "code",
   "execution_count": 14,
   "id": "344bd301-3b29-4590-a828-ae4c38cf5a13",
   "metadata": {},
   "outputs": [],
   "source": [
    "# Registering the function as a Stored Procedure\n",
    "staples_rf_sproc = staples_session.sproc.register(func=staples_train_rf_model, # training function defined above\n",
    "                                            name='staples_train_rf_model', # training model name to be registered in snowlake\n",
    "                                            is_permanent=True, # permanent stored proc\n",
    "                                            replace=True, # replace if existing already\n",
    "                                            stage_location='@staples_stage_models', # save the model in stage location\n",
    "                                            packages=['snowflake-snowpark-python','scikit-learn','joblib']) # import model libaries\n"
   ]
  },
  {
   "cell_type": "markdown",
   "id": "bd3632e9-7132-44ff-a946-b1dd50bc6e7e",
   "metadata": {},
   "source": [
    "### Define Stored Proc to register decision tree classifier model"
   ]
  },
  {
   "cell_type": "code",
   "execution_count": 15,
   "id": "87dc43c2-a330-4fa5-bca6-5b72bc34ff39",
   "metadata": {},
   "outputs": [],
   "source": [
    "# Registering the function as a Stored Procedure\n",
    "staples_dtree_sproc = staples_session.sproc.register(func=staples_train_dtree_model, # training function defined above\n",
    "                                            name='staples_train_dtree_model', # training model name to be registered in snowlake\n",
    "                                            is_permanent=True, # permanent stored proc\n",
    "                                            replace=True, # replace if existing already\n",
    "                                            stage_location='@staples_stage_models', # save the model in stage location\n",
    "                                            packages=['snowflake-snowpark-python','scikit-learn','joblib']) # import model libaries\n"
   ]
  },
  {
   "cell_type": "markdown",
   "id": "e28b9ab8-9d16-4d33-9588-aad06f7efcd9",
   "metadata": {},
   "source": [
    "### Train  Random Forest classifier and Decision Tree Classifier in Snowflake through registered Stored Procs and capture model output in a snowflake table"
   ]
  },
  {
   "cell_type": "markdown",
   "id": "6deea381-4ec7-42d6-a4ff-aedec6e955d0",
   "metadata": {},
   "source": [
    "### All the above steps are just definition and Registration of component\n",
    "### The below training runs completely on Snowflake and you can go check in history tab"
   ]
  },
  {
   "cell_type": "code",
   "execution_count": 16,
   "id": "88fd5c12-92bf-4004-b104-4c11b8931f8d",
   "metadata": {},
   "outputs": [
    {
     "name": "stdout",
     "output_type": "stream",
     "text": [
      "random forest classifier report\n",
      "          class  precision    recall  ...  nj                  cw max_depth\n",
      "0             0   0.843750  0.782609  ...   1  balanced_subsample        15\n",
      "1             1   0.615385  0.705882  ...   1  balanced_subsample        15\n",
      "2      accuracy   0.757282  0.757282  ...   1  balanced_subsample        15\n",
      "3     macro avg   0.729567  0.744246  ...   1  balanced_subsample        15\n",
      "4  weighted avg   0.768367  0.757282  ...   1  balanced_subsample        15\n",
      "\n",
      "[5 rows x 12 columns]\n"
     ]
    }
   ],
   "source": [
    "table_name = 'staples_data_train'\n",
    "sample = 100,\n",
    "test_size = 0.1\n",
    "max_depth = 15\n",
    "model_name = 'rf_staples_model'\n",
    "random_state = 43,\n",
    "n_estimator = 4\n",
    "n_jobs = 1,\n",
    "class_weight = 'balanced_subsample'\n",
    "print (\"random forest classifier report\")\n",
    "print (staples_rf_sproc(table_name\n",
    "                ,1000\n",
    "                , model_name\n",
    "                ,features\n",
    "                ,'LABEL'\n",
    "                ,test_size\n",
    "                ,43\n",
    "                ,n_estimator\n",
    "                ,1\n",
    "                ,class_weight\n",
    "                , max_depth))"
   ]
  },
  {
   "cell_type": "code",
   "execution_count": null,
   "id": "9a236052-8026-44ed-a451-5916c7feb8b1",
   "metadata": {},
   "outputs": [],
   "source": [
    "table_name = 'staples_data_train'\n",
    "sample = 100,\n",
    "test_size = 0.1\n",
    "max_depth = 15\n",
    "model_name = 'rf_staples_model_'+'ts'+str(test_size)+'_'+'md'+str(max_depth)\n",
    "random_state = 43,\n",
    "n_estimator = 4\n",
    "n_jobs = 1,\n",
    "class_weight = 'balanced_subsample'\n",
    "print (\"random forest classifier report\")\n",
    "print (staples_rf_sproc(table_name\n",
    "                ,1000\n",
    "                , model_name\n",
    "                ,features\n",
    "                ,'LABEL'\n",
    "                ,test_size\n",
    "                ,43\n",
    "                ,n_estimator\n",
    "                ,1\n",
    "                ,class_weight\n",
    "                , max_depth))"
   ]
  },
  {
   "cell_type": "code",
   "execution_count": null,
   "id": "9cd48da1-a25a-4c0e-b27d-0bd67deaa525",
   "metadata": {},
   "outputs": [],
   "source": [
    "table_name = 'staples_data_train'\n",
    "sample = 1000,\n",
    "test_size = 0.25\n",
    "max_depth = 20\n",
    "model_name = 'rf_staples_model_'+'ts'+str(test_size)+'_'+'md'+str(max_depth)\n",
    "random_state = 43,\n",
    "n_estimator = 4\n",
    "n_jobs = 1,\n",
    "class_weight = 'balanced_subsample'\n",
    "print (\"random forest classifier report\")\n",
    "print (staples_rf_sproc(table_name\n",
    "                ,100\n",
    "                , model_name\n",
    "                ,features\n",
    "                ,'LABEL'\n",
    "                ,test_size\n",
    "                ,43\n",
    "                ,n_estimator\n",
    "                ,1\n",
    "                ,class_weight\n",
    "                , max_depth))"
   ]
  },
  {
   "cell_type": "code",
   "execution_count": null,
   "id": "8f85586b-3823-4c12-8e76-fb7bd0cf8534",
   "metadata": {},
   "outputs": [],
   "source": [
    "table_name = 'staples_data_train'\n",
    "sample = 1000,\n",
    "test_size = 0.25\n",
    "max_depth = 25\n",
    "model_name = 'rf_staples_model_'+'ts'+str(test_size)+'_'+'md'+str(max_depth)\n",
    "random_state = 43,\n",
    "n_estimator = 4\n",
    "n_jobs = 1,\n",
    "class_weight = 'balanced_subsample'\n",
    "print (\"random forest classifier report\")\n",
    "print (staples_rf_sproc(table_name\n",
    "                ,100\n",
    "                , model_name\n",
    "                ,features\n",
    "                ,'LABEL'\n",
    "                ,test_size\n",
    "                ,43\n",
    "                ,n_estimator\n",
    "                ,1\n",
    "                ,class_weight\n",
    "                , max_depth))"
   ]
  },
  {
   "cell_type": "code",
   "execution_count": 17,
   "id": "84a6027e-d22e-4259-8ddc-5900b8b27945",
   "metadata": {},
   "outputs": [
    {
     "name": "stdout",
     "output_type": "stream",
     "text": [
      "decision tree classifier report\n",
      "          class  precision    recall  f1-score  ...  ne nj        cw  max_depth\n",
      "0             0   0.888199  0.781421  0.831395  ...   4  1  balanced         20\n",
      "1             1   0.512195  0.700000  0.591549  ...   4  1  balanced         20\n",
      "2      accuracy   0.761317  0.761317  0.761317  ...   4  1  balanced         20\n",
      "3     macro avg   0.700197  0.740710  0.711472  ...   4  1  balanced         20\n",
      "4  weighted avg   0.795358  0.761317  0.772174  ...   4  1  balanced         20\n",
      "\n",
      "[5 rows x 12 columns]\n"
     ]
    }
   ],
   "source": [
    "table_name = 'staples_data_train'\n",
    "sample = 1000,\n",
    "test_size = 0.25\n",
    "max_depth = 20\n",
    "model_name = 'dtree_staples_model'\n",
    "random_state = 43,\n",
    "class_weight = 'balanced'\n",
    "print (\"decision tree classifier report\")\n",
    "print (staples_rf_sproc(table_name\n",
    "                ,1000\n",
    "                , model_name\n",
    "                ,features\n",
    "                ,'LABEL'\n",
    "                ,test_size\n",
    "                ,43,\n",
    "                4,\n",
    "                1\n",
    "                ,class_weight\n",
    "                , max_depth))"
   ]
  },
  {
   "cell_type": "code",
   "execution_count": null,
   "id": "4fc4aa79-88be-4254-bb05-165b1944eafb",
   "metadata": {},
   "outputs": [],
   "source": [
    "table_name = 'staples_data_train'\n",
    "sample = 1000,\n",
    "test_size = 0.25\n",
    "max_depth = 20\n",
    "model_name = 'dtree_staples_model_'+'ts'+str(test_size)+'_'+'md'+str(max_depth)\n",
    "random_state = 43,\n",
    "class_weight = 'balanced'\n",
    "print (\"decision tree classifier report\")\n",
    "print (staples_rf_sproc(table_name\n",
    "                ,1000\n",
    "                , model_name\n",
    "                ,features\n",
    "                ,'LABEL'\n",
    "                ,test_size\n",
    "                ,43,\n",
    "                4,\n",
    "                1\n",
    "                ,class_weight\n",
    "                , max_depth))"
   ]
  },
  {
   "cell_type": "code",
   "execution_count": null,
   "id": "7f024852-594f-413d-887d-4e5a2433dc64",
   "metadata": {},
   "outputs": [],
   "source": [
    "table_name = 'staples_data_train'\n",
    "sample = 100,\n",
    "test_size = 0.25\n",
    "max_depth = 25\n",
    "model_name = 'dtree_staples_model_'+'ts'+str(test_size)+'_'+'md'+str(max_depth)\n",
    "random_state = 43,\n",
    "class_weight = 'balanced'\n",
    "print (\"decision tree classifier report\")\n",
    "print (staples_dtree_sproc(table_name\n",
    "                ,1000\n",
    "                , model_name\n",
    "                ,features\n",
    "                ,'LABEL'\n",
    "                ,test_size\n",
    "                ,43\n",
    "                ,class_weight\n",
    "                , max_depth))"
   ]
  },
  {
   "cell_type": "code",
   "execution_count": null,
   "id": "71ca9165-98b9-4442-ae54-4a829c456442",
   "metadata": {},
   "outputs": [],
   "source": [
    "table_name = 'staples_data_train'\n",
    "sample = 100,\n",
    "test_size = 0.25\n",
    "max_depth = 30\n",
    "model_name = 'dtree_staples_model_'+'ts'+str(test_size)+'_'+'md'+str(max_depth)\n",
    "random_state = 43,\n",
    "class_weight = 'balanced'\n",
    "print (\"decision tree classifier report\")\n",
    "print (staples_dtree_sproc(table_name\n",
    "                ,1000\n",
    "                , model_name\n",
    "                ,features\n",
    "                ,'LABEL'\n",
    "                ,test_size\n",
    "                ,43\n",
    "                ,class_weight\n",
    "                , max_depth))"
   ]
  },
  {
   "cell_type": "code",
   "execution_count": null,
   "id": "19dc9c21-486e-4405-a9dc-5652235ec40d",
   "metadata": {},
   "outputs": [],
   "source": [
    "staples_session.sql(\"\"\"select class,precision,recall,f1score,model,test_size,max_depth from staples_model_output \n",
    "               order by f1score desc\"\"\").show()"
   ]
  },
  {
   "cell_type": "markdown",
   "id": "9bd6f039-5a42-414f-bcb8-5962a0915d54",
   "metadata": {},
   "source": [
    "### Check if the classifier models are saved in stage location.\n",
    "### Remember if the same model name was used for all the iterations, then only the last trained model will be saved\n",
    "### for the model name."
   ]
  },
  {
   "cell_type": "code",
   "execution_count": 18,
   "id": "2067e1fd-60e6-462b-a0bb-9f44688b1e07",
   "metadata": {},
   "outputs": [
    {
     "data": {
      "text/plain": [
       "[Row(name='staples_stage_models/dtree_staples_model.joblib', size=105168, md5='dcdd7e19ad2b6129cd475471d868279f', last_modified='Wed, 7 Dec 2022 01:35:25 GMT'),\n",
       " Row(name='staples_stage_models/rf_staples_model.joblib', size=103328, md5='4066b7adb79daa3efa089fee02bde8eb', last_modified='Wed, 7 Dec 2022 01:35:07 GMT')]"
      ]
     },
     "execution_count": 18,
     "metadata": {},
     "output_type": "execute_result"
    }
   ],
   "source": [
    "staples_session.sql(\"list @staples_stage_models\").collect()"
   ]
  },
  {
   "cell_type": "markdown",
   "id": "cf550172-af3e-4297-a374-698d70a2603c",
   "metadata": {},
   "source": [
    "### Define UDF for Inference"
   ]
  },
  {
   "cell_type": "markdown",
   "id": "1600a84e-2fd5-42d3-92c3-a489c30d10ee",
   "metadata": {},
   "source": [
    "### for Randomforest classifier"
   ]
  },
  {
   "cell_type": "code",
   "execution_count": 19,
   "id": "e70fefda-0494-42e4-bd4a-9272d71c2a2e",
   "metadata": {},
   "outputs": [],
   "source": [
    "import sys\n",
    "import cachetools\n",
    "import os\n",
    "from snowflake.snowpark.functions import udf\n",
    "staples_session.add_import(\"@staples_stage_models/rf_staples_model.joblib\")  \n",
    "\n",
    "@cachetools.cached(cache={})\n",
    "def read_file(filename):\n",
    "       import_dir = sys._xoptions.get(\"snowflake_import_directory\")\n",
    "       if import_dir:\n",
    "              with open(os.path.join(import_dir, filename), 'rb') as file:\n",
    "                     m = joblib.load(file)\n",
    "                     return m\n",
    "\n",
    "@udf(name=\"predict_rf_staples_model\", is_permanent=True, stage_location=\"@staples_stage_models\", replace=True)\n",
    "def predict(RECENCY_DAY: float, FREQUENCY: float, MONETORY: float, RMF_SCORE: float, DOTCOM: float, REWARDS_ACCOUNT: float,\n",
    "            FREQ_1: float, FREQ_2: float, FREQ_3: float, FREQ_4: float, FREQ_5: float, FREQ_6: float, FREQ_7: float, \n",
    "            FREQ_8: float, FREQ_9: float, FREQ_10: float, FREQ_11: float, FREQ_12: float, CNT_PER_PDT: float, \n",
    "            CNT_PER_PDT_SFC: float, CNT_PER_PDT_VFC: float, NO_DISCOUNT: float, DISCOUNT_PROMOTION: float,\n",
    "            SUM_DIS_PRO: float) -> float:\n",
    "       m = read_file('rf_staples_model.joblib')       \n",
    "       row = pd.DataFrame([locals()], columns=features)\n",
    "       return m.predict(row)[0]"
   ]
  },
  {
   "cell_type": "markdown",
   "id": "fa5b235f-c3fa-4967-8075-442cbc9469ed",
   "metadata": {},
   "source": [
    "### for Decision Tree classifier"
   ]
  },
  {
   "cell_type": "code",
   "execution_count": 20,
   "id": "c1b4f735-c6a5-49c4-ab42-deec1ae09286",
   "metadata": {},
   "outputs": [],
   "source": [
    "\n",
    "import sys\n",
    "import cachetools\n",
    "import os\n",
    "from snowflake.snowpark.functions import udf\n",
    "staples_session.add_import(\"@staples_stage_models/dtree_staples_model.joblib\")  \n",
    "\n",
    "@cachetools.cached(cache={})\n",
    "def read_file(filename):\n",
    "       import_dir = sys._xoptions.get(\"snowflake_import_directory\")\n",
    "       if import_dir:\n",
    "              with open(os.path.join(import_dir, filename), 'rb') as file:\n",
    "                     m = joblib.load(file)\n",
    "                     return m\n",
    "\n",
    "@udf(name=\"predict_dtree_staples_model\", is_permanent=True, stage_location=\"@staples_stage_models\", replace=True)\n",
    "def predict(RECENCY_DAY: float, FREQUENCY: float, MONETORY: float, RMF_SCORE: float, DOTCOM: float, REWARDS_ACCOUNT: float,\n",
    "            FREQ_1: float, FREQ_2: float, FREQ_3: float, FREQ_4: float, FREQ_5: float, FREQ_6: float, FREQ_7: float, \n",
    "            FREQ_8: float, FREQ_9: float, FREQ_10: float, FREQ_11: float, FREQ_12: float, CNT_PER_PDT: float, \n",
    "            CNT_PER_PDT_SFC: float, CNT_PER_PDT_VFC: float, NO_DISCOUNT: float, DISCOUNT_PROMOTION: float, \n",
    "            SUM_DIS_PRO: float) -> float:\n",
    "       m = read_file('dtree_staples_model.joblib')       \n",
    "       row = pd.DataFrame([locals()], columns=features)\n",
    "       return m.predict(row)[0]"
   ]
  },
  {
   "cell_type": "code",
   "execution_count": 21,
   "id": "e106849f-38f0-438d-aaf8-9ec2bb9f5e3f",
   "metadata": {},
   "outputs": [],
   "source": [
    "features = ['RECENCY_DAY',\n",
    "'FREQUENCY',\n",
    "'MONETORY',\n",
    "'RMF_SCORE',\n",
    "'DOTCOM',\n",
    "'REWARDS_ACCOUNT',\n",
    "'FREQ_1',\n",
    "'FREQ_2',\n",
    "'FREQ_3',\n",
    "'FREQ_4',\n",
    "'FREQ_5',\n",
    "'FREQ_6',\n",
    "'FREQ_7',\n",
    "'FREQ_8',\n",
    "'FREQ_9',\n",
    "'FREQ_10',\n",
    "'FREQ_11',\n",
    "'FREQ_12',\n",
    "'CNT_PER_PDT',\n",
    "'CNT_PER_PDT_SFC',\n",
    "'CNT_PER_PDT_VFC',\n",
    "'NO_DISCOUNT',\n",
    "'DISCOUNT_PROMOTION',\n",
    "'SUM_DIS_PRO',\n",
    "'LABEL']"
   ]
  },
  {
   "cell_type": "markdown",
   "id": "68940677-8fb5-477f-806f-fa37ac39a9f0",
   "metadata": {},
   "source": [
    "### Load Dataset to snowflake table for inference"
   ]
  },
  {
   "cell_type": "code",
   "execution_count": null,
   "id": "c348a095-ddcb-4b82-81ed-4ca81f348cab",
   "metadata": {},
   "outputs": [],
   "source": [
    "data_train_df = pd.read_csv(\"Data_train.csv\",header=None,delimiter=',')\n",
    "cols = ['ACCT_NMB','RECENCY_DAY',\n",
    "'FREQUENCY',\n",
    "'MONETORY',\n",
    "'RMF_SCORE',\n",
    "'DOTCOM',\n",
    "'REWARDS_ACCOUNT',\n",
    "'FREQ_1',\n",
    "'FREQ_2',\n",
    "'FREQ_3',\n",
    "'FREQ_4',\n",
    "'FREQ_5',\n",
    "'FREQ_6',\n",
    "'FREQ_7',\n",
    "'FREQ_8',\n",
    "'FREQ_9',\n",
    "'FREQ_10',\n",
    "'FREQ_11',\n",
    "'FREQ_12',\n",
    "'CNT_PER_PDT',\n",
    "'CNT_PER_PDT_SFC',\n",
    "'CNT_PER_PDT_VFC',\n",
    "'NO_DISCOUNT',\n",
    "'DISCOUNT_PROMOTION',\n",
    "'SUM_DIS_PRO',\n",
    "'LABEL',\n",
    "'features']\n",
    "staple_table_df = pd.DataFrame(data_train_df[1:].values,columns=cols)\n",
    "staple_table_df = staple_table_df.astype({\"ACCT_NMB\": str, \n",
    "                             \"RECENCY_DAY\": float, \n",
    "                             \"FREQUENCY\": float,\n",
    "                             \"MONETORY\": float,\n",
    "                             \"RMF_SCORE\": float,\n",
    "                             \"DOTCOM\": float,\n",
    "                             \"REWARDS_ACCOUNT\": float,\n",
    "                             \"FREQ_1\": float,\n",
    "                             \"FREQ_2\": float,\n",
    "                             \"FREQ_3\": float,\n",
    "                             \"FREQ_4\": float,\n",
    "                             \"FREQ_5\": float,\n",
    "                             \"FREQ_6\": float,\n",
    "                             \"FREQ_7\": float,\n",
    "                             \"FREQ_8\": float,\n",
    "                             \"FREQ_9\": float,\n",
    "                             \"FREQ_10\": float,\n",
    "                             \"FREQ_11\": float,\n",
    "                             \"FREQ_12\": float,\n",
    "                             \"CNT_PER_PDT\": float,\n",
    "                             \"CNT_PER_PDT_SFC\": float,\n",
    "                             \"CNT_PER_PDT_VFC\": float,\n",
    "                             \"NO_DISCOUNT\": float,\n",
    "                             \"DISCOUNT_PROMOTION\": float,\n",
    "                             \"LABEL\": int,\n",
    "                             \"features\": str\n",
    "                            }\n",
    "                           )\n",
    "staples_session.create_dataframe(staple_table_df).write.mode(\"overwrite\").save_as_table(\"staples_data_train\")"
   ]
  },
  {
   "cell_type": "markdown",
   "id": "2b1ad9b2-831f-4ce4-9289-f76cf1b51ea7",
   "metadata": {},
   "source": [
    "### Check sample Data"
   ]
  },
  {
   "cell_type": "code",
   "execution_count": 23,
   "id": "bcde6d6c-2570-4535-8718-d73e796bba0a",
   "metadata": {},
   "outputs": [
    {
     "name": "stdout",
     "output_type": "stream",
     "text": [
      "---------------------------------------------------------------------------------------------------------------------------------------------------------------------------------------------------------------------------------------------------------------------------------------------------------------------------------------------------------------------------------------------------------------------------\n",
      "|\"ACCT_NMB\"  |\"RECENCY_DAY\"  |\"FREQUENCY\"  |\"MONETORY\"  |\"RMF_SCORE\"  |\"DOTCOM\"  |\"REWARDS_ACCOUNT\"  |\"FREQ_1\"  |\"FREQ_2\"  |\"FREQ_3\"  |\"FREQ_4\"  |\"FREQ_5\"  |\"FREQ_6\"  |\"FREQ_7\"  |\"FREQ_8\"  |\"FREQ_9\"  |\"FREQ_10\"  |\"FREQ_11\"  |\"FREQ_12\"  |\"CNT_PER_PDT\"  |\"CNT_PER_PDT_SFC\"  |\"CNT_PER_PDT_VFC\"  |\"NO_DISCOUNT\"  |\"DISCOUNT_PROMOTION\"  |\"SUM_DIS_PRO\"  |\"LABEL\"  |\"features\"                                          |\n",
      "---------------------------------------------------------------------------------------------------------------------------------------------------------------------------------------------------------------------------------------------------------------------------------------------------------------------------------------------------------------------------------------------------------------------------\n",
      "|0000008888  |11.0           |25.0         |377.11      |3.0          |0.0       |1.0                |8.0       |0.0       |7.0       |4.0       |6.0       |3.0       |0.0       |39.0      |26.0      |2.0        |9.0        |8.0        |0.0            |0.0                |0.0                |106.0          |6.0                   |-33.4200       |0        |{\"vectorType\":\"dense\",\"length\":24,\"values\":[11,...  |\n",
      "---------------------------------------------------------------------------------------------------------------------------------------------------------------------------------------------------------------------------------------------------------------------------------------------------------------------------------------------------------------------------------------------------------------------------\n",
      "\n"
     ]
    }
   ],
   "source": [
    "snowpark_staples_df = staples_session.table('staples_data_train')\n",
    "snowpark_staples_df.show(1)"
   ]
  },
  {
   "cell_type": "markdown",
   "id": "2700e9e6-107f-4516-ae8b-30e1abe72b96",
   "metadata": {},
   "source": [
    "### Check Data structure"
   ]
  },
  {
   "cell_type": "code",
   "execution_count": 24,
   "id": "ef40d0e6-a59f-4f00-b8e0-d8c0d36c8b2a",
   "metadata": {},
   "outputs": [
    {
     "data": {
      "text/plain": [
       "[StructField('ACCT_NMB', StringType(), nullable=True),\n",
       " StructField('RECENCY_DAY', DoubleType(), nullable=True),\n",
       " StructField('FREQUENCY', DoubleType(), nullable=True),\n",
       " StructField('MONETORY', DoubleType(), nullable=True),\n",
       " StructField('RMF_SCORE', DoubleType(), nullable=True),\n",
       " StructField('DOTCOM', DoubleType(), nullable=True),\n",
       " StructField('REWARDS_ACCOUNT', DoubleType(), nullable=True),\n",
       " StructField('FREQ_1', DoubleType(), nullable=True),\n",
       " StructField('FREQ_2', DoubleType(), nullable=True),\n",
       " StructField('FREQ_3', DoubleType(), nullable=True),\n",
       " StructField('FREQ_4', DoubleType(), nullable=True),\n",
       " StructField('FREQ_5', DoubleType(), nullable=True),\n",
       " StructField('FREQ_6', DoubleType(), nullable=True),\n",
       " StructField('FREQ_7', DoubleType(), nullable=True),\n",
       " StructField('FREQ_8', DoubleType(), nullable=True),\n",
       " StructField('FREQ_9', DoubleType(), nullable=True),\n",
       " StructField('FREQ_10', DoubleType(), nullable=True),\n",
       " StructField('FREQ_11', DoubleType(), nullable=True),\n",
       " StructField('FREQ_12', DoubleType(), nullable=True),\n",
       " StructField('CNT_PER_PDT', DoubleType(), nullable=True),\n",
       " StructField('CNT_PER_PDT_SFC', DoubleType(), nullable=True),\n",
       " StructField('CNT_PER_PDT_VFC', DoubleType(), nullable=True),\n",
       " StructField('NO_DISCOUNT', DoubleType(), nullable=True),\n",
       " StructField('DISCOUNT_PROMOTION', DoubleType(), nullable=True),\n",
       " StructField('SUM_DIS_PRO', StringType(), nullable=True),\n",
       " StructField('LABEL', LongType(), nullable=True),\n",
       " StructField('\"features\"', StringType(), nullable=True)]"
      ]
     },
     "execution_count": 24,
     "metadata": {},
     "output_type": "execute_result"
    }
   ],
   "source": [
    "snowpark_staples_df.schema.fields"
   ]
  },
  {
   "cell_type": "markdown",
   "id": "3580408c-f8a0-4238-aa39-94e24dc7d1ec",
   "metadata": {},
   "source": [
    "### Now using both randomforest and decisiontree classifiers let's predict and infer using SQL."
   ]
  },
  {
   "cell_type": "markdown",
   "id": "68c436f3-dd8d-4509-bbde-198835bd70fb",
   "metadata": {},
   "source": [
    "### You can compare both model inference results side by side using SQL Query completed run on Snowflake"
   ]
  },
  {
   "cell_type": "code",
   "execution_count": 26,
   "id": "e679663c-0368-4689-9a0c-b88fa1bc0c2e",
   "metadata": {},
   "outputs": [
    {
     "name": "stdout",
     "output_type": "stream",
     "text": [
      "------------------------------------------------------------------------\n",
      "|\"ACCT_NMB\"  |\"ORIGINAL_LABEL\"  |\"PRED_RF_LABEL\"  |\"PRED_DTREE_LABEL\"  |\n",
      "------------------------------------------------------------------------\n",
      "|0000008888  |0                 |0.0              |1.0                 |\n",
      "|0000010710  |1                 |1.0              |0.0                 |\n",
      "|0000011031  |0                 |0.0              |0.0                 |\n",
      "|0000018903  |0                 |0.0              |0.0                 |\n",
      "|0000018986  |0                 |0.0              |0.0                 |\n",
      "|0000024216  |0                 |0.0              |0.0                 |\n",
      "|0000025627  |0                 |1.0              |0.0                 |\n",
      "|0000044057  |0                 |0.0              |0.0                 |\n",
      "|0000057158  |0                 |0.0              |0.0                 |\n",
      "|0000061630  |1                 |1.0              |1.0                 |\n",
      "|0000068817  |0                 |0.0              |0.0                 |\n",
      "|0000072504  |1                 |1.0              |1.0                 |\n",
      "|0000076745  |0                 |0.0              |0.0                 |\n",
      "|0000087502  |0                 |1.0              |0.0                 |\n",
      "|0000092957  |1                 |0.0              |0.0                 |\n",
      "|0000093401  |0                 |0.0              |0.0                 |\n",
      "|0000096248  |0                 |0.0              |0.0                 |\n",
      "|0000096495  |0                 |0.0              |0.0                 |\n",
      "|0000100081  |0                 |0.0              |0.0                 |\n",
      "|0000100925  |0                 |0.0              |0.0                 |\n",
      "|0000104182  |1                 |1.0              |1.0                 |\n",
      "|0000122424  |0                 |0.0              |0.0                 |\n",
      "|0000126235  |0                 |0.0              |0.0                 |\n",
      "|0000141382  |0                 |0.0              |0.0                 |\n",
      "|0000151506  |1                 |1.0              |1.0                 |\n",
      "|0000151803  |0                 |0.0              |0.0                 |\n",
      "|0000152694  |0                 |0.0              |0.0                 |\n",
      "|0000153015  |0                 |0.0              |0.0                 |\n",
      "|0000158956  |0                 |0.0              |0.0                 |\n",
      "|0000159327  |1                 |0.0              |0.0                 |\n",
      "|0000164988  |0                 |0.0              |0.0                 |\n",
      "|0000177626  |0                 |0.0              |0.0                 |\n",
      "|0000177675  |1                 |1.0              |1.0                 |\n",
      "|0000182014  |0                 |0.0              |0.0                 |\n",
      "|0000196485  |1                 |1.0              |1.0                 |\n",
      "|0000200592  |0                 |0.0              |0.0                 |\n",
      "|0000203612  |0                 |0.0              |0.0                 |\n",
      "|0000207472  |1                 |1.0              |0.0                 |\n",
      "|0000207787  |1                 |0.0              |1.0                 |\n",
      "|0000221119  |1                 |1.0              |1.0                 |\n",
      "|0000224436  |1                 |1.0              |1.0                 |\n",
      "|0000229898  |1                 |0.0              |0.0                 |\n",
      "|0000236208  |0                 |0.0              |0.0                 |\n",
      "|0000253443  |1                 |0.0              |0.0                 |\n",
      "|0000264200  |1                 |1.0              |1.0                 |\n",
      "|0000329136  |0                 |0.0              |0.0                 |\n",
      "|0000347351  |0                 |0.0              |0.0                 |\n",
      "|0000365106  |1                 |1.0              |1.0                 |\n",
      "|0000402362  |0                 |0.0              |0.0                 |\n",
      "|0000409730  |1                 |1.0              |0.0                 |\n",
      "|0000428110  |0                 |0.0              |0.0                 |\n",
      "|0000481978  |1                 |1.0              |1.0                 |\n",
      "|0000487777  |0                 |0.0              |0.0                 |\n",
      "|0000489021  |1                 |1.0              |0.0                 |\n",
      "|0000504944  |1                 |1.0              |0.0                 |\n",
      "|0000513440  |1                 |1.0              |1.0                 |\n",
      "|0000524637  |0                 |0.0              |0.0                 |\n",
      "|0000528711  |1                 |1.0              |1.0                 |\n",
      "|0000533281  |1                 |0.0              |0.0                 |\n",
      "|0000554758  |1                 |1.0              |1.0                 |\n",
      "|0000586982  |1                 |1.0              |0.0                 |\n",
      "|0000594218  |0                 |0.0              |0.0                 |\n",
      "|0000613273  |1                 |1.0              |1.0                 |\n",
      "|0000614990  |0                 |0.0              |0.0                 |\n",
      "|0000647941  |0                 |0.0              |0.0                 |\n",
      "|0000655217  |0                 |0.0              |0.0                 |\n",
      "|0000655753  |1                 |0.0              |0.0                 |\n",
      "|0000682096  |0                 |0.0              |0.0                 |\n",
      "|0000698597  |1                 |1.0              |1.0                 |\n",
      "|0000699934  |1                 |1.0              |0.0                 |\n",
      "|0000717041  |0                 |0.0              |0.0                 |\n",
      "|0000733840  |1                 |0.0              |1.0                 |\n",
      "|0000734210  |1                 |1.0              |1.0                 |\n",
      "|0000751941  |1                 |1.0              |0.0                 |\n",
      "|0000768218  |0                 |0.0              |0.0                 |\n",
      "|0000792291  |0                 |0.0              |0.0                 |\n",
      "|0000805085  |0                 |0.0              |1.0                 |\n",
      "|0000823138  |1                 |0.0              |1.0                 |\n",
      "|0000854471  |0                 |1.0              |0.0                 |\n",
      "|0000894139  |0                 |0.0              |0.0                 |\n",
      "|0000894147  |0                 |0.0              |0.0                 |\n",
      "|0000898445  |0                 |0.0              |1.0                 |\n",
      "|0000900522  |0                 |0.0              |0.0                 |\n",
      "|0000919480  |1                 |1.0              |1.0                 |\n",
      "|0000921494  |1                 |1.0              |0.0                 |\n",
      "|0000932905  |1                 |1.0              |1.0                 |\n",
      "|0001012608  |0                 |0.0              |0.0                 |\n",
      "|0001014034  |0                 |0.0              |0.0                 |\n",
      "|0001014752  |0                 |0.0              |0.0                 |\n",
      "|0001025873  |1                 |1.0              |1.0                 |\n",
      "|0001027028  |1                 |1.0              |0.0                 |\n",
      "|0001037290  |0                 |0.0              |0.0                 |\n",
      "|0001044437  |0                 |0.0              |0.0                 |\n",
      "|0001065754  |1                 |0.0              |0.0                 |\n",
      "|0001093210  |1                 |1.0              |1.0                 |\n",
      "|0001101112  |1                 |0.0              |1.0                 |\n",
      "|0001103795  |0                 |0.0              |0.0                 |\n",
      "|0001127257  |0                 |0.0              |0.0                 |\n",
      "|0001132133  |0                 |0.0              |0.0                 |\n",
      "|0001136670  |0                 |0.0              |0.0                 |\n",
      "|0001143171  |0                 |0.0              |0.0                 |\n",
      "|0001163435  |0                 |1.0              |0.0                 |\n",
      "|0001171560  |0                 |0.0              |0.0                 |\n",
      "|0001179183  |1                 |1.0              |1.0                 |\n",
      "|0001187830  |0                 |0.0              |0.0                 |\n",
      "|0001189679  |0                 |0.0              |0.0                 |\n",
      "|0001192939  |0                 |0.0              |0.0                 |\n",
      "|0001196930  |1                 |1.0              |1.0                 |\n",
      "|0001207547  |0                 |0.0              |0.0                 |\n",
      "|0001213883  |0                 |1.0              |0.0                 |\n",
      "|0001215045  |0                 |0.0              |0.0                 |\n",
      "|0001223643  |1                 |1.0              |1.0                 |\n",
      "|0001247816  |0                 |0.0              |0.0                 |\n",
      "|0001257617  |1                 |1.0              |1.0                 |\n",
      "|0001259092  |0                 |0.0              |0.0                 |\n",
      "|0001259233  |0                 |0.0              |0.0                 |\n",
      "|0001267905  |0                 |0.0              |0.0                 |\n",
      "|0001272749  |1                 |1.0              |0.0                 |\n",
      "|0001272848  |0                 |0.0              |0.0                 |\n",
      "|0001279611  |1                 |0.0              |1.0                 |\n",
      "|0001295419  |1                 |1.0              |1.0                 |\n",
      "|0001299080  |0                 |0.0              |0.0                 |\n",
      "|0001301019  |0                 |0.0              |0.0                 |\n",
      "|0001302322  |1                 |1.0              |0.0                 |\n",
      "|0001308709  |0                 |0.0              |0.0                 |\n",
      "|0001338409  |0                 |0.0              |0.0                 |\n",
      "|0001338631  |1                 |1.0              |1.0                 |\n",
      "|0001339217  |1                 |1.0              |1.0                 |\n",
      "|0001352137  |0                 |0.0              |0.0                 |\n",
      "|0001352434  |0                 |0.0              |0.0                 |\n",
      "|0001353473  |0                 |0.0              |0.0                 |\n",
      "|0001355031  |1                 |1.0              |1.0                 |\n",
      "|0001355247  |0                 |0.0              |0.0                 |\n",
      "|0001355965  |1                 |1.0              |1.0                 |\n",
      "|0001371954  |0                 |0.0              |0.0                 |\n",
      "|0001373919  |1                 |1.0              |1.0                 |\n",
      "|0001378603  |0                 |0.0              |0.0                 |\n",
      "|0001378785  |0                 |0.0              |0.0                 |\n",
      "|0001384783  |0                 |0.0              |0.0                 |\n",
      "|0001395318  |0                 |0.0              |0.0                 |\n",
      "|0001423052  |0                 |0.0              |0.0                 |\n",
      "|0001428317  |0                 |0.0              |0.0                 |\n",
      "|0001430479  |1                 |1.0              |1.0                 |\n",
      "|0001434349  |0                 |0.0              |0.0                 |\n",
      "|0001444033  |0                 |0.0              |0.0                 |\n",
      "|0001461227  |0                 |0.0              |0.0                 |\n",
      "|0001463264  |0                 |0.0              |0.0                 |\n",
      "|0001464130  |0                 |0.0              |0.0                 |\n",
      "|0001481886  |1                 |0.0              |1.0                 |\n",
      "|0001485895  |1                 |0.0              |1.0                 |\n",
      "|0001490960  |0                 |0.0              |0.0                 |\n",
      "|0001508068  |1                 |0.0              |1.0                 |\n",
      "|0001515436  |0                 |1.0              |0.0                 |\n",
      "|0001521905  |1                 |1.0              |1.0                 |\n",
      "|0001552967  |0                 |0.0              |0.0                 |\n",
      "|0001559756  |0                 |0.0              |0.0                 |\n",
      "|0001564475  |0                 |0.0              |0.0                 |\n",
      "|0001566090  |1                 |1.0              |0.0                 |\n",
      "|0001584531  |0                 |0.0              |0.0                 |\n",
      "|0001591916  |0                 |0.0              |0.0                 |\n",
      "|0001596600  |1                 |1.0              |1.0                 |\n",
      "|0001604131  |1                 |1.0              |1.0                 |\n",
      "|0001613694  |0                 |0.0              |0.0                 |\n",
      "|0001654938  |0                 |0.0              |0.0                 |\n",
      "|0001656206  |0                 |0.0              |0.0                 |\n",
      "|0001657105  |0                 |0.0              |0.0                 |\n",
      "|0001659549  |0                 |0.0              |0.0                 |\n",
      "|0001674696  |1                 |1.0              |0.0                 |\n",
      "|0001678911  |1                 |1.0              |1.0                 |\n",
      "|0001679935  |1                 |1.0              |1.0                 |\n",
      "|0001684141  |0                 |1.0              |0.0                 |\n",
      "|0001688944  |0                 |0.0              |0.0                 |\n",
      "|0001700640  |0                 |0.0              |0.0                 |\n",
      "|0001701804  |0                 |0.0              |0.0                 |\n",
      "|0001708460  |0                 |0.0              |0.0                 |\n",
      "|0001715986  |0                 |0.0              |0.0                 |\n",
      "|0001731819  |1                 |1.0              |1.0                 |\n",
      "|0001743095  |1                 |1.0              |1.0                 |\n",
      "|0001743293  |0                 |0.0              |0.0                 |\n",
      "|0001750546  |0                 |0.0              |0.0                 |\n",
      "|0001752518  |1                 |1.0              |1.0                 |\n",
      "|0001756220  |0                 |0.0              |0.0                 |\n",
      "|0001759174  |1                 |1.0              |1.0                 |\n",
      "|0001781459  |0                 |0.0              |0.0                 |\n",
      "|0001782739  |1                 |1.0              |1.0                 |\n",
      "|0001785724  |1                 |1.0              |1.0                 |\n",
      "|0001792001  |1                 |1.0              |1.0                 |\n",
      "|0001813286  |0                 |0.0              |0.0                 |\n",
      "|0001839554  |1                 |0.0              |1.0                 |\n",
      "|0001851948  |0                 |0.0              |0.0                 |\n",
      "|0001860626  |0                 |0.0              |0.0                 |\n",
      "|0001898048  |0                 |0.0              |0.0                 |\n",
      "|0001902113  |0                 |0.0              |0.0                 |\n",
      "|0001936707  |0                 |1.0              |0.0                 |\n",
      "|0001943075  |0                 |0.0              |0.0                 |\n",
      "|0001950526  |1                 |0.0              |0.0                 |\n",
      "|0001957265  |0                 |0.0              |0.0                 |\n",
      "|0001962315  |1                 |1.0              |1.0                 |\n",
      "|0001967421  |0                 |0.0              |0.0                 |\n",
      "|0001971522  |0                 |0.0              |0.0                 |\n",
      "|0001978311  |0                 |0.0              |0.0                 |\n",
      "|0001988229  |0                 |0.0              |0.0                 |\n",
      "|0001994631  |0                 |0.0              |0.0                 |\n",
      "|0002001667  |0                 |1.0              |0.0                 |\n",
      "|0002004927  |0                 |0.0              |0.0                 |\n",
      "|0002011864  |0                 |0.0              |0.0                 |\n",
      "|0002012920  |1                 |1.0              |1.0                 |\n",
      "|0002015022  |0                 |0.0              |0.0                 |\n",
      "|0002027035  |0                 |0.0              |0.0                 |\n",
      "|0002029536  |1                 |1.0              |0.0                 |\n",
      "|0002039428  |0                 |1.0              |1.0                 |\n",
      "|0002041291  |1                 |1.0              |1.0                 |\n",
      "|0002046795  |1                 |0.0              |0.0                 |\n",
      "|0002047017  |1                 |0.0              |0.0                 |\n",
      "|0002060994  |0                 |0.0              |0.0                 |\n",
      "|0002073773  |1                 |0.0              |0.0                 |\n",
      "|0002092385  |0                 |0.0              |0.0                 |\n",
      "|0002093854  |0                 |1.0              |0.0                 |\n",
      "|0002097186  |0                 |0.0              |0.0                 |\n",
      "|0002123743  |1                 |1.0              |1.0                 |\n",
      "|0002125292  |0                 |0.0              |0.0                 |\n",
      "|0002134708  |0                 |0.0              |0.0                 |\n",
      "|0002136836  |1                 |1.0              |1.0                 |\n",
      "|0002137461  |0                 |0.0              |0.0                 |\n",
      "|0002156131  |1                 |1.0              |1.0                 |\n",
      "|0002167732  |0                 |0.0              |0.0                 |\n",
      "|0002206464  |0                 |0.0              |0.0                 |\n",
      "|0002208510  |1                 |1.0              |0.0                 |\n",
      "|0002214633  |0                 |0.0              |0.0                 |\n",
      "|0002233096  |0                 |0.0              |0.0                 |\n",
      "|0002246585  |0                 |1.0              |0.0                 |\n",
      "|0002248698  |0                 |0.0              |0.0                 |\n",
      "|0002248854  |0                 |0.0              |0.0                 |\n",
      "|0002264828  |0                 |0.0              |0.0                 |\n",
      "|0002265353  |0                 |0.0              |0.0                 |\n",
      "|0002278695  |0                 |1.0              |1.0                 |\n",
      "|0002296275  |0                 |0.0              |0.0                 |\n",
      "|0002303246  |0                 |0.0              |0.0                 |\n",
      "|0002313476  |0                 |0.0              |0.0                 |\n",
      "|0002319614  |0                 |0.0              |0.0                 |\n",
      "|0002357648  |0                 |0.0              |0.0                 |\n",
      "|0002363117  |0                 |0.0              |0.0                 |\n",
      "|0002363844  |0                 |0.0              |0.0                 |\n",
      "|0002366029  |1                 |1.0              |1.0                 |\n",
      "|0002367316  |0                 |0.0              |0.0                 |\n",
      "|0002376838  |1                 |1.0              |1.0                 |\n",
      "|0002413425  |0                 |0.0              |0.0                 |\n",
      "|0002413847  |1                 |1.0              |1.0                 |\n",
      "|0002419257  |1                 |1.0              |1.0                 |\n",
      "|0002420420  |1                 |0.0              |0.0                 |\n",
      "------------------------------------------------------------------------\n",
      "\n"
     ]
    }
   ],
   "source": [
    "qry=\"\"\"SELECT \n",
    "       ACCT_NMB,\n",
    "       LABEL AS ORIGINAL_LABEL, \n",
    "       predict_rf_staples_model(RECENCY_DAY,FREQUENCY, MONETORY,RMF_SCORE,DOTCOM,REWARDS_ACCOUNT,\n",
    "       FREQ_1,FREQ_2, FREQ_3, FREQ_4, FREQ_5, FREQ_6, FREQ_7, FREQ_8, FREQ_9, FREQ_10, FREQ_11, FREQ_12,\n",
    "       CNT_PER_PDT, CNT_PER_PDT_SFC, CNT_PER_PDT_VFC, NO_DISCOUNT, DISCOUNT_PROMOTION, SUM_DIS_PRO) as PRED_rf_LABEL,\n",
    "       predict_dtree_staples_model(RECENCY_DAY,FREQUENCY, MONETORY,RMF_SCORE,DOTCOM,REWARDS_ACCOUNT,\n",
    "       FREQ_1,FREQ_2, FREQ_3, FREQ_4, FREQ_5, FREQ_6, FREQ_7, FREQ_8, FREQ_9, FREQ_10, FREQ_11, FREQ_12,\n",
    "       CNT_PER_PDT, CNT_PER_PDT_SFC, CNT_PER_PDT_VFC, NO_DISCOUNT, DISCOUNT_PROMOTION, SUM_DIS_PRO) as PRED_dtree_LABEL\n",
    "        FROM (staples_data_train) LIMIT 250\"\"\"\n",
    "predict_snowpark_df = staples_session.sql(qry)\n",
    "predict_snowpark_df.show(250)"
   ]
  },
  {
   "cell_type": "code",
   "execution_count": 27,
   "id": "7ad2b8e3-7e14-4a49-8ec3-35132f43ea35",
   "metadata": {},
   "outputs": [
    {
     "name": "stdout",
     "output_type": "stream",
     "text": [
      "Finished!!!\n"
     ]
    }
   ],
   "source": [
    "staples_session.close()\n",
    "print('Finished!!!')"
   ]
  },
  {
   "cell_type": "code",
   "execution_count": null,
   "id": "256179af-2c6c-4cc4-a633-395019236439",
   "metadata": {},
   "outputs": [],
   "source": []
  }
 ],
 "metadata": {
  "kernelspec": {
   "display_name": "Python 3 (ipykernel)",
   "language": "python",
   "name": "python3"
  },
  "language_info": {
   "codemirror_mode": {
    "name": "ipython",
    "version": 3
   },
   "file_extension": ".py",
   "mimetype": "text/x-python",
   "name": "python",
   "nbconvert_exporter": "python",
   "pygments_lexer": "ipython3",
   "version": "3.8.13"
  }
 },
 "nbformat": 4,
 "nbformat_minor": 5
}
